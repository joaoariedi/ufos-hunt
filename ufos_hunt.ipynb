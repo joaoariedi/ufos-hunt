{
 "cells": [
  {
   "cell_type": "markdown",
   "metadata": {},
   "source": [
    "# Caçador de OVNIs"
   ]
  },
  {
   "cell_type": "markdown",
   "metadata": {},
   "source": [
    "Em que estado e horário é mais \"fácil\" de avistar um OVNI nos EUA?"
   ]
  },
  {
   "cell_type": "markdown",
   "metadata": {},
   "source": [
    "### Importando o que importa"
   ]
  },
  {
   "cell_type": "code",
   "execution_count": 1,
   "metadata": {},
   "outputs": [],
   "source": [
    "import pandas as pd\n",
    "import matplotlib.pyplot as plt\n",
    "import matplotlib as mpl\n",
    "mpl.get_configdir()\n",
    "mpl.style.use('seaborn-dark')\n",
    "plt.rcParams[\"figure.figsize\"] = (12,6)\n",
    "\n",
    "import warnings\n",
    "warnings.simplefilter(action='ignore')"
   ]
  },
  {
   "cell_type": "markdown",
   "metadata": {},
   "source": [
    "### Lendo o arquivo com todas as ocorrências"
   ]
  },
  {
   "cell_type": "code",
   "execution_count": 2,
   "metadata": {},
   "outputs": [],
   "source": [
    "df = pd.read_json('ovnis_crawler/ovnis.json')"
   ]
  },
  {
   "cell_type": "markdown",
   "metadata": {},
   "source": [
    "### Visualizando uma amostra dos dados"
   ]
  },
  {
   "cell_type": "code",
   "execution_count": 3,
   "metadata": {},
   "outputs": [
    {
     "data": {
      "text/plain": "         occurred        city state     shape                   duration  \\\n0  12/19/21 23:00    Branford    CT    Circle                       None   \n1  12/19/21 00:15     Deltona    FL  Changing  1 minute, 9 seconds video   \n2  12/18/21 21:45  Long Beach    CA  Triangle                3-5 seconds   \n3  12/18/21 00:00   Charlotte    NC     Cigar       still active 12:35am   \n4  12/17/21 23:30      Traver    CA      Oval                    2 hours   \n\n                                             summary    posted  \n0  See craft every evening when I get out of work...  12/19/21  \n1  I was on Ring app in house and saw incredible ...  12/19/21  \n2       3 Boomerang shaped craft flying in formation  12/19/21  \n3  flying stick, the ends of it brighter. Recorde...  12/19/21  \n4  ((HOAX))  near the Foster farms feed mill in T...  12/19/21  ",
      "text/html": "<div>\n<style scoped>\n    .dataframe tbody tr th:only-of-type {\n        vertical-align: middle;\n    }\n\n    .dataframe tbody tr th {\n        vertical-align: top;\n    }\n\n    .dataframe thead th {\n        text-align: right;\n    }\n</style>\n<table border=\"1\" class=\"dataframe\">\n  <thead>\n    <tr style=\"text-align: right;\">\n      <th></th>\n      <th>occurred</th>\n      <th>city</th>\n      <th>state</th>\n      <th>shape</th>\n      <th>duration</th>\n      <th>summary</th>\n      <th>posted</th>\n    </tr>\n  </thead>\n  <tbody>\n    <tr>\n      <th>0</th>\n      <td>12/19/21 23:00</td>\n      <td>Branford</td>\n      <td>CT</td>\n      <td>Circle</td>\n      <td>None</td>\n      <td>See craft every evening when I get out of work...</td>\n      <td>12/19/21</td>\n    </tr>\n    <tr>\n      <th>1</th>\n      <td>12/19/21 00:15</td>\n      <td>Deltona</td>\n      <td>FL</td>\n      <td>Changing</td>\n      <td>1 minute, 9 seconds video</td>\n      <td>I was on Ring app in house and saw incredible ...</td>\n      <td>12/19/21</td>\n    </tr>\n    <tr>\n      <th>2</th>\n      <td>12/18/21 21:45</td>\n      <td>Long Beach</td>\n      <td>CA</td>\n      <td>Triangle</td>\n      <td>3-5 seconds</td>\n      <td>3 Boomerang shaped craft flying in formation</td>\n      <td>12/19/21</td>\n    </tr>\n    <tr>\n      <th>3</th>\n      <td>12/18/21 00:00</td>\n      <td>Charlotte</td>\n      <td>NC</td>\n      <td>Cigar</td>\n      <td>still active 12:35am</td>\n      <td>flying stick, the ends of it brighter. Recorde...</td>\n      <td>12/19/21</td>\n    </tr>\n    <tr>\n      <th>4</th>\n      <td>12/17/21 23:30</td>\n      <td>Traver</td>\n      <td>CA</td>\n      <td>Oval</td>\n      <td>2 hours</td>\n      <td>((HOAX))  near the Foster farms feed mill in T...</td>\n      <td>12/19/21</td>\n    </tr>\n  </tbody>\n</table>\n</div>"
     },
     "execution_count": 3,
     "metadata": {},
     "output_type": "execute_result"
    }
   ],
   "source": [
    "df.head()"
   ]
  },
  {
   "cell_type": "markdown",
   "metadata": {},
   "source": [
    "### Renomeando as colunas"
   ]
  },
  {
   "cell_type": "code",
   "execution_count": 4,
   "metadata": {},
   "outputs": [],
   "source": [
    "df.columns = ['ocorrido', 'cidade', 'estado', 'forma', 'duração', 'relato', 'postado']"
   ]
  },
  {
   "cell_type": "markdown",
   "metadata": {},
   "source": [
    "### Convertendo as colunas com datas de <code>string</code> para <code>datetime</code>"
   ]
  },
  {
   "cell_type": "code",
   "execution_count": 5,
   "metadata": {},
   "outputs": [],
   "source": [
    "df['ocorrido'] = pd.to_datetime(df['ocorrido'])\n",
    "df['postado'] = pd.to_datetime(df['postado'])"
   ]
  },
  {
   "cell_type": "code",
   "execution_count": 6,
   "metadata": {},
   "outputs": [
    {
     "data": {
      "text/plain": "             ocorrido      cidade estado     forma                    duração  \\\n0 2021-12-19 23:00:00    Branford     CT    Circle                       None   \n1 2021-12-19 00:15:00     Deltona     FL  Changing  1 minute, 9 seconds video   \n2 2021-12-18 21:45:00  Long Beach     CA  Triangle                3-5 seconds   \n3 2021-12-18 00:00:00   Charlotte     NC     Cigar       still active 12:35am   \n4 2021-12-17 23:30:00      Traver     CA      Oval                    2 hours   \n\n                                              relato    postado  \n0  See craft every evening when I get out of work... 2021-12-19  \n1  I was on Ring app in house and saw incredible ... 2021-12-19  \n2       3 Boomerang shaped craft flying in formation 2021-12-19  \n3  flying stick, the ends of it brighter. Recorde... 2021-12-19  \n4  ((HOAX))  near the Foster farms feed mill in T... 2021-12-19  ",
      "text/html": "<div>\n<style scoped>\n    .dataframe tbody tr th:only-of-type {\n        vertical-align: middle;\n    }\n\n    .dataframe tbody tr th {\n        vertical-align: top;\n    }\n\n    .dataframe thead th {\n        text-align: right;\n    }\n</style>\n<table border=\"1\" class=\"dataframe\">\n  <thead>\n    <tr style=\"text-align: right;\">\n      <th></th>\n      <th>ocorrido</th>\n      <th>cidade</th>\n      <th>estado</th>\n      <th>forma</th>\n      <th>duração</th>\n      <th>relato</th>\n      <th>postado</th>\n    </tr>\n  </thead>\n  <tbody>\n    <tr>\n      <th>0</th>\n      <td>2021-12-19 23:00:00</td>\n      <td>Branford</td>\n      <td>CT</td>\n      <td>Circle</td>\n      <td>None</td>\n      <td>See craft every evening when I get out of work...</td>\n      <td>2021-12-19</td>\n    </tr>\n    <tr>\n      <th>1</th>\n      <td>2021-12-19 00:15:00</td>\n      <td>Deltona</td>\n      <td>FL</td>\n      <td>Changing</td>\n      <td>1 minute, 9 seconds video</td>\n      <td>I was on Ring app in house and saw incredible ...</td>\n      <td>2021-12-19</td>\n    </tr>\n    <tr>\n      <th>2</th>\n      <td>2021-12-18 21:45:00</td>\n      <td>Long Beach</td>\n      <td>CA</td>\n      <td>Triangle</td>\n      <td>3-5 seconds</td>\n      <td>3 Boomerang shaped craft flying in formation</td>\n      <td>2021-12-19</td>\n    </tr>\n    <tr>\n      <th>3</th>\n      <td>2021-12-18 00:00:00</td>\n      <td>Charlotte</td>\n      <td>NC</td>\n      <td>Cigar</td>\n      <td>still active 12:35am</td>\n      <td>flying stick, the ends of it brighter. Recorde...</td>\n      <td>2021-12-19</td>\n    </tr>\n    <tr>\n      <th>4</th>\n      <td>2021-12-17 23:30:00</td>\n      <td>Traver</td>\n      <td>CA</td>\n      <td>Oval</td>\n      <td>2 hours</td>\n      <td>((HOAX))  near the Foster farms feed mill in T...</td>\n      <td>2021-12-19</td>\n    </tr>\n  </tbody>\n</table>\n</div>"
     },
     "execution_count": 6,
     "metadata": {},
     "output_type": "execute_result"
    }
   ],
   "source": [
    "df.head()"
   ]
  },
  {
   "cell_type": "markdown",
   "metadata": {},
   "source": [
    "### Limpando os relatos com dados faltantes"
   ]
  },
  {
   "cell_type": "code",
   "execution_count": 7,
   "metadata": {},
   "outputs": [],
   "source": [
    "df_dropped = df.dropna()"
   ]
  },
  {
   "cell_type": "code",
   "execution_count": 8,
   "metadata": {},
   "outputs": [
    {
     "data": {
      "text/plain": "             ocorrido      cidade estado     forma                    duração  \\\n1 2021-12-19 00:15:00     Deltona     FL  Changing  1 minute, 9 seconds video   \n2 2021-12-18 21:45:00  Long Beach     CA  Triangle                3-5 seconds   \n3 2021-12-18 00:00:00   Charlotte     NC     Cigar       still active 12:35am   \n4 2021-12-17 23:30:00      Traver     CA      Oval                    2 hours   \n5 2021-12-17 22:30:00       Butte     MT    Circle                 15 minutes   \n\n                                              relato    postado  \n1  I was on Ring app in house and saw incredible ... 2021-12-19  \n2       3 Boomerang shaped craft flying in formation 2021-12-19  \n3  flying stick, the ends of it brighter. Recorde... 2021-12-19  \n4  ((HOAX))  near the Foster farms feed mill in T... 2021-12-19  \n5  Saw orb that moved around the moon and got pic... 2021-12-19  ",
      "text/html": "<div>\n<style scoped>\n    .dataframe tbody tr th:only-of-type {\n        vertical-align: middle;\n    }\n\n    .dataframe tbody tr th {\n        vertical-align: top;\n    }\n\n    .dataframe thead th {\n        text-align: right;\n    }\n</style>\n<table border=\"1\" class=\"dataframe\">\n  <thead>\n    <tr style=\"text-align: right;\">\n      <th></th>\n      <th>ocorrido</th>\n      <th>cidade</th>\n      <th>estado</th>\n      <th>forma</th>\n      <th>duração</th>\n      <th>relato</th>\n      <th>postado</th>\n    </tr>\n  </thead>\n  <tbody>\n    <tr>\n      <th>1</th>\n      <td>2021-12-19 00:15:00</td>\n      <td>Deltona</td>\n      <td>FL</td>\n      <td>Changing</td>\n      <td>1 minute, 9 seconds video</td>\n      <td>I was on Ring app in house and saw incredible ...</td>\n      <td>2021-12-19</td>\n    </tr>\n    <tr>\n      <th>2</th>\n      <td>2021-12-18 21:45:00</td>\n      <td>Long Beach</td>\n      <td>CA</td>\n      <td>Triangle</td>\n      <td>3-5 seconds</td>\n      <td>3 Boomerang shaped craft flying in formation</td>\n      <td>2021-12-19</td>\n    </tr>\n    <tr>\n      <th>3</th>\n      <td>2021-12-18 00:00:00</td>\n      <td>Charlotte</td>\n      <td>NC</td>\n      <td>Cigar</td>\n      <td>still active 12:35am</td>\n      <td>flying stick, the ends of it brighter. Recorde...</td>\n      <td>2021-12-19</td>\n    </tr>\n    <tr>\n      <th>4</th>\n      <td>2021-12-17 23:30:00</td>\n      <td>Traver</td>\n      <td>CA</td>\n      <td>Oval</td>\n      <td>2 hours</td>\n      <td>((HOAX))  near the Foster farms feed mill in T...</td>\n      <td>2021-12-19</td>\n    </tr>\n    <tr>\n      <th>5</th>\n      <td>2021-12-17 22:30:00</td>\n      <td>Butte</td>\n      <td>MT</td>\n      <td>Circle</td>\n      <td>15 minutes</td>\n      <td>Saw orb that moved around the moon and got pic...</td>\n      <td>2021-12-19</td>\n    </tr>\n  </tbody>\n</table>\n</div>"
     },
     "execution_count": 8,
     "metadata": {},
     "output_type": "execute_result"
    }
   ],
   "source": [
    "df_dropped.head()"
   ]
  },
  {
   "cell_type": "code",
   "execution_count": 9,
   "outputs": [
    {
     "data": {
      "text/plain": "                 ocorrido                   cidade estado     forma  \\\n12133 2071-12-25 08:00:00                   Oxnard     CA    Sphere   \n12134 2071-12-20 16:00:00             Mountainview     CA  Triangle   \n12161 2071-11-26 20:02:00      Sundsanvik (Sweden)   None      Disk   \n12162 2071-11-22 08:05:00  Vindoen Island (Sweden)     OH      Disk   \n12163 2071-11-17 21:00:00                     Knox     NY      Disk   \n...                   ...                      ...    ...       ...   \n12180 1972-01-18 21:00:00               Blacksburg     SC     Light   \n12181 1972-01-15 23:00:00            Malmstrom AFB     MT   Unknown   \n12182 1972-01-05 19:30:00                   Gering     NE     Light   \n12183 1972-01-01 20:00:00               Huntsville     AL   Unknown   \n12184 1972-01-01 16:00:00                  Seattle     WA  Triangle   \n\n           duração                                             relato  \\\n12133    2 seconds                         big blue fireball very low   \n12134   10 minutes  Particially hidden, behind cloud, hovering cra...   \n12161        10min  Golden Light-White Syncron Light-Ruby Red Clou...   \n12162     9minutes  BIG-one kilometer wide Yellowlighted UFO-Discu...   \n12163     1 minute  UFO hovers above and shines a bright beam of l...   \n...            ...                                                ...   \n12180      2 hours  In the early 70's, four of us chased lights in...   \n12181     mult hrs                      UFO on USAF base 1972 or 1973   \n12182  2-3 minutes  Fast moving light, darting then hovering in sk...   \n12183    2 minutes    3 lights, light speed, no sound, 90 degree turn   \n12184      30 sec.  Man reports sighting in l972 or 1973.  Heard w...   \n\n         postado  \n12133 2006-05-15  \n12134 2004-12-03  \n12161 2011-03-10  \n12162 2006-12-07  \n12163 2008-03-31  \n...          ...  \n12180 1999-04-26  \n12181 2002-09-28  \n12182 2005-04-16  \n12183 2005-04-16  \n12184 1999-11-02  \n\n[136018 rows x 7 columns]",
      "text/html": "<div>\n<style scoped>\n    .dataframe tbody tr th:only-of-type {\n        vertical-align: middle;\n    }\n\n    .dataframe tbody tr th {\n        vertical-align: top;\n    }\n\n    .dataframe thead th {\n        text-align: right;\n    }\n</style>\n<table border=\"1\" class=\"dataframe\">\n  <thead>\n    <tr style=\"text-align: right;\">\n      <th></th>\n      <th>ocorrido</th>\n      <th>cidade</th>\n      <th>estado</th>\n      <th>forma</th>\n      <th>duração</th>\n      <th>relato</th>\n      <th>postado</th>\n    </tr>\n  </thead>\n  <tbody>\n    <tr>\n      <th>12133</th>\n      <td>2071-12-25 08:00:00</td>\n      <td>Oxnard</td>\n      <td>CA</td>\n      <td>Sphere</td>\n      <td>2 seconds</td>\n      <td>big blue fireball very low</td>\n      <td>2006-05-15</td>\n    </tr>\n    <tr>\n      <th>12134</th>\n      <td>2071-12-20 16:00:00</td>\n      <td>Mountainview</td>\n      <td>CA</td>\n      <td>Triangle</td>\n      <td>10 minutes</td>\n      <td>Particially hidden, behind cloud, hovering cra...</td>\n      <td>2004-12-03</td>\n    </tr>\n    <tr>\n      <th>12161</th>\n      <td>2071-11-26 20:02:00</td>\n      <td>Sundsanvik (Sweden)</td>\n      <td>None</td>\n      <td>Disk</td>\n      <td>10min</td>\n      <td>Golden Light-White Syncron Light-Ruby Red Clou...</td>\n      <td>2011-03-10</td>\n    </tr>\n    <tr>\n      <th>12162</th>\n      <td>2071-11-22 08:05:00</td>\n      <td>Vindoen Island (Sweden)</td>\n      <td>OH</td>\n      <td>Disk</td>\n      <td>9minutes</td>\n      <td>BIG-one kilometer wide Yellowlighted UFO-Discu...</td>\n      <td>2006-12-07</td>\n    </tr>\n    <tr>\n      <th>12163</th>\n      <td>2071-11-17 21:00:00</td>\n      <td>Knox</td>\n      <td>NY</td>\n      <td>Disk</td>\n      <td>1 minute</td>\n      <td>UFO hovers above and shines a bright beam of l...</td>\n      <td>2008-03-31</td>\n    </tr>\n    <tr>\n      <th>...</th>\n      <td>...</td>\n      <td>...</td>\n      <td>...</td>\n      <td>...</td>\n      <td>...</td>\n      <td>...</td>\n      <td>...</td>\n    </tr>\n    <tr>\n      <th>12180</th>\n      <td>1972-01-18 21:00:00</td>\n      <td>Blacksburg</td>\n      <td>SC</td>\n      <td>Light</td>\n      <td>2 hours</td>\n      <td>In the early 70's, four of us chased lights in...</td>\n      <td>1999-04-26</td>\n    </tr>\n    <tr>\n      <th>12181</th>\n      <td>1972-01-15 23:00:00</td>\n      <td>Malmstrom AFB</td>\n      <td>MT</td>\n      <td>Unknown</td>\n      <td>mult hrs</td>\n      <td>UFO on USAF base 1972 or 1973</td>\n      <td>2002-09-28</td>\n    </tr>\n    <tr>\n      <th>12182</th>\n      <td>1972-01-05 19:30:00</td>\n      <td>Gering</td>\n      <td>NE</td>\n      <td>Light</td>\n      <td>2-3 minutes</td>\n      <td>Fast moving light, darting then hovering in sk...</td>\n      <td>2005-04-16</td>\n    </tr>\n    <tr>\n      <th>12183</th>\n      <td>1972-01-01 20:00:00</td>\n      <td>Huntsville</td>\n      <td>AL</td>\n      <td>Unknown</td>\n      <td>2 minutes</td>\n      <td>3 lights, light speed, no sound, 90 degree turn</td>\n      <td>2005-04-16</td>\n    </tr>\n    <tr>\n      <th>12184</th>\n      <td>1972-01-01 16:00:00</td>\n      <td>Seattle</td>\n      <td>WA</td>\n      <td>Triangle</td>\n      <td>30 sec.</td>\n      <td>Man reports sighting in l972 or 1973.  Heard w...</td>\n      <td>1999-11-02</td>\n    </tr>\n  </tbody>\n</table>\n<p>136018 rows × 7 columns</p>\n</div>"
     },
     "execution_count": 9,
     "metadata": {},
     "output_type": "execute_result"
    }
   ],
   "source": [
    "df.sort_values(by=\"ocorrido\", ascending=False)"
   ],
   "metadata": {
    "collapsed": false,
    "pycharm": {
     "name": "#%%\n"
    }
   }
  },
  {
   "cell_type": "code",
   "execution_count": 10,
   "outputs": [
    {
     "data": {
      "text/plain": "             ocorrido      cidade estado     forma                    duração  \\\n1 2021-12-19 00:15:00     Deltona     FL  Changing  1 minute, 9 seconds video   \n2 2021-12-18 21:45:00  Long Beach     CA  Triangle                3-5 seconds   \n3 2021-12-18 00:00:00   Charlotte     NC     Cigar       still active 12:35am   \n4 2021-12-17 23:30:00      Traver     CA      Oval                    2 hours   \n5 2021-12-17 22:30:00       Butte     MT    Circle                 15 minutes   \n\n                                              relato    postado  \n1  I was on Ring app in house and saw incredible ... 2021-12-19  \n2       3 Boomerang shaped craft flying in formation 2021-12-19  \n3  flying stick, the ends of it brighter. Recorde... 2021-12-19  \n4  ((HOAX))  near the Foster farms feed mill in T... 2021-12-19  \n5  Saw orb that moved around the moon and got pic... 2021-12-19  ",
      "text/html": "<div>\n<style scoped>\n    .dataframe tbody tr th:only-of-type {\n        vertical-align: middle;\n    }\n\n    .dataframe tbody tr th {\n        vertical-align: top;\n    }\n\n    .dataframe thead th {\n        text-align: right;\n    }\n</style>\n<table border=\"1\" class=\"dataframe\">\n  <thead>\n    <tr style=\"text-align: right;\">\n      <th></th>\n      <th>ocorrido</th>\n      <th>cidade</th>\n      <th>estado</th>\n      <th>forma</th>\n      <th>duração</th>\n      <th>relato</th>\n      <th>postado</th>\n    </tr>\n  </thead>\n  <tbody>\n    <tr>\n      <th>1</th>\n      <td>2021-12-19 00:15:00</td>\n      <td>Deltona</td>\n      <td>FL</td>\n      <td>Changing</td>\n      <td>1 minute, 9 seconds video</td>\n      <td>I was on Ring app in house and saw incredible ...</td>\n      <td>2021-12-19</td>\n    </tr>\n    <tr>\n      <th>2</th>\n      <td>2021-12-18 21:45:00</td>\n      <td>Long Beach</td>\n      <td>CA</td>\n      <td>Triangle</td>\n      <td>3-5 seconds</td>\n      <td>3 Boomerang shaped craft flying in formation</td>\n      <td>2021-12-19</td>\n    </tr>\n    <tr>\n      <th>3</th>\n      <td>2021-12-18 00:00:00</td>\n      <td>Charlotte</td>\n      <td>NC</td>\n      <td>Cigar</td>\n      <td>still active 12:35am</td>\n      <td>flying stick, the ends of it brighter. Recorde...</td>\n      <td>2021-12-19</td>\n    </tr>\n    <tr>\n      <th>4</th>\n      <td>2021-12-17 23:30:00</td>\n      <td>Traver</td>\n      <td>CA</td>\n      <td>Oval</td>\n      <td>2 hours</td>\n      <td>((HOAX))  near the Foster farms feed mill in T...</td>\n      <td>2021-12-19</td>\n    </tr>\n    <tr>\n      <th>5</th>\n      <td>2021-12-17 22:30:00</td>\n      <td>Butte</td>\n      <td>MT</td>\n      <td>Circle</td>\n      <td>15 minutes</td>\n      <td>Saw orb that moved around the moon and got pic...</td>\n      <td>2021-12-19</td>\n    </tr>\n  </tbody>\n</table>\n</div>"
     },
     "execution_count": 10,
     "metadata": {},
     "output_type": "execute_result"
    }
   ],
   "source": [
    "selector_non_future_occurrences = df_dropped['ocorrido'] < pd.Timestamp.now()\n",
    "df_dropped = df_dropped[selector_non_future_occurrences].sort_values(by=\"ocorrido\", ascending=False)\n",
    "df_dropped.head()"
   ],
   "metadata": {
    "collapsed": false,
    "pycharm": {
     "name": "#%%\n"
    }
   }
  },
  {
   "cell_type": "markdown",
   "metadata": {},
   "source": [
    "### Agrupando os resultados por estado"
   ]
  },
  {
   "cell_type": "code",
   "execution_count": 11,
   "metadata": {},
   "outputs": [],
   "source": [
    "ocorrencias_por_estado = df_dropped.groupby('estado')['ocorrido'].count()"
   ]
  },
  {
   "cell_type": "code",
   "execution_count": 12,
   "metadata": {},
   "outputs": [],
   "source": [
    "ocorrencias_por_estado.sort_values(ascending=False, inplace=True)"
   ]
  },
  {
   "cell_type": "markdown",
   "metadata": {},
   "source": [
    "### Plotando os 10 estados com mais ocorrências"
   ]
  },
  {
   "cell_type": "code",
   "execution_count": 13,
   "metadata": {},
   "outputs": [
    {
     "data": {
      "text/plain": "<AxesSubplot:xlabel='estado'>"
     },
     "execution_count": 13,
     "metadata": {},
     "output_type": "execute_result"
    },
    {
     "data": {
      "text/plain": "<Figure size 864x432 with 1 Axes>",
      "image/png": "[encoded data removed]"
     },
     "metadata": {},
     "output_type": "display_data"
    }
   ],
   "source": [
    "ocorrencias_por_estado.head(10).plot.bar(rot=0)"
   ]
  },
  {
   "cell_type": "markdown",
   "metadata": {},
   "source": [
    "### Extraindo um subset com somente com os dados da Califórnia"
   ]
  },
  {
   "cell_type": "code",
   "execution_count": 14,
   "metadata": {},
   "outputs": [],
   "source": [
    "selector = df_dropped['estado'] == \"CA\""
   ]
  },
  {
   "cell_type": "code",
   "execution_count": 15,
   "metadata": {},
   "outputs": [],
   "source": [
    "california = df_dropped[selector]"
   ]
  },
  {
   "cell_type": "code",
   "execution_count": 16,
   "metadata": {},
   "outputs": [
    {
     "data": {
      "text/plain": "              ocorrido       cidade estado     forma      duração  \\\n2  2021-12-18 21:45:00   Long Beach     CA  Triangle  3-5 seconds   \n4  2021-12-17 23:30:00       Traver     CA      Oval      2 hours   \n10 2021-12-16 17:15:00    San Diego     CA  Triangle  2-3 minutes   \n13 2021-12-15 21:45:00      Visalia     CA     Light    2 minutes   \n49 2021-12-11 23:00:00  San Leandro     CA     Light   30 minutes   \n\n                                               relato    postado  \n2        3 Boomerang shaped craft flying in formation 2021-12-19  \n4   ((HOAX))  near the Foster farms feed mill in T... 2021-12-19  \n10                       Saw triangular shaped object 2021-12-19  \n13  Viewed some red lights in the sky appearing to... 2021-12-19  \n49  A light in the sky over San Francisco Bay in c... 2021-12-19  ",
      "text/html": "<div>\n<style scoped>\n    .dataframe tbody tr th:only-of-type {\n        vertical-align: middle;\n    }\n\n    .dataframe tbody tr th {\n        vertical-align: top;\n    }\n\n    .dataframe thead th {\n        text-align: right;\n    }\n</style>\n<table border=\"1\" class=\"dataframe\">\n  <thead>\n    <tr style=\"text-align: right;\">\n      <th></th>\n      <th>ocorrido</th>\n      <th>cidade</th>\n      <th>estado</th>\n      <th>forma</th>\n      <th>duração</th>\n      <th>relato</th>\n      <th>postado</th>\n    </tr>\n  </thead>\n  <tbody>\n    <tr>\n      <th>2</th>\n      <td>2021-12-18 21:45:00</td>\n      <td>Long Beach</td>\n      <td>CA</td>\n      <td>Triangle</td>\n      <td>3-5 seconds</td>\n      <td>3 Boomerang shaped craft flying in formation</td>\n      <td>2021-12-19</td>\n    </tr>\n    <tr>\n      <th>4</th>\n      <td>2021-12-17 23:30:00</td>\n      <td>Traver</td>\n      <td>CA</td>\n      <td>Oval</td>\n      <td>2 hours</td>\n      <td>((HOAX))  near the Foster farms feed mill in T...</td>\n      <td>2021-12-19</td>\n    </tr>\n    <tr>\n      <th>10</th>\n      <td>2021-12-16 17:15:00</td>\n      <td>San Diego</td>\n      <td>CA</td>\n      <td>Triangle</td>\n      <td>2-3 minutes</td>\n      <td>Saw triangular shaped object</td>\n      <td>2021-12-19</td>\n    </tr>\n    <tr>\n      <th>13</th>\n      <td>2021-12-15 21:45:00</td>\n      <td>Visalia</td>\n      <td>CA</td>\n      <td>Light</td>\n      <td>2 minutes</td>\n      <td>Viewed some red lights in the sky appearing to...</td>\n      <td>2021-12-19</td>\n    </tr>\n    <tr>\n      <th>49</th>\n      <td>2021-12-11 23:00:00</td>\n      <td>San Leandro</td>\n      <td>CA</td>\n      <td>Light</td>\n      <td>30 minutes</td>\n      <td>A light in the sky over San Francisco Bay in c...</td>\n      <td>2021-12-19</td>\n    </tr>\n  </tbody>\n</table>\n</div>"
     },
     "execution_count": 16,
     "metadata": {},
     "output_type": "execute_result"
    }
   ],
   "source": [
    "california.head()"
   ]
  },
  {
   "cell_type": "markdown",
   "metadata": {},
   "source": [
    "### Extraindo a hora de cada ocorrência e adicionando em uma nova coluna"
   ]
  },
  {
   "cell_type": "code",
   "execution_count": 17,
   "metadata": {},
   "outputs": [],
   "source": [
    "california['hora'] = california['ocorrido'].dt.hour"
   ]
  },
  {
   "cell_type": "markdown",
   "metadata": {},
   "source": [
    "### Plotando um <code>histograma</code> para examinar a distribuição de ocorrências"
   ]
  },
  {
   "cell_type": "code",
   "execution_count": 18,
   "metadata": {},
   "outputs": [
    {
     "data": {
      "text/plain": "<Figure size 864x432 with 1 Axes>",
      "image/png": "[encoded data removed]"
     },
     "metadata": {},
     "output_type": "display_data"
    }
   ],
   "source": [
    "hora_hist = california['hora'].plot.hist(bins=12, grid=True)\n",
    "plt.xticks(range(california['hora'].min(), california['hora'].max()+1, 2))\n",
    "plt.show()"
   ]
  },
  {
   "cell_type": "markdown",
   "metadata": {},
   "source": [
    "# Desafio"
   ]
  },
  {
   "cell_type": "markdown",
   "metadata": {},
   "source": [
    "### Qual os 5 formatos de OVNI mais comuns nos relatos?"
   ]
  },
  {
   "cell_type": "code",
   "execution_count": 19,
   "metadata": {},
   "outputs": [
    {
     "data": {
      "text/plain": "forma\nLight       25139\nCircle      12557\nTriangle    11113\nFireball     8791\nUnknown      8246\nName: ocorrido, dtype: int64"
     },
     "execution_count": 19,
     "metadata": {},
     "output_type": "execute_result"
    }
   ],
   "source": [
    "df_dropped.groupby('forma')['ocorrido'].count().sort_values(ascending=False).head()"
   ]
  },
  {
   "cell_type": "markdown",
   "metadata": {},
   "source": [
    "### Qual o horário mais difícil para avistarmos um OVNI em forma de Charuto?"
   ]
  },
  {
   "cell_type": "code",
   "execution_count": 20,
   "metadata": {},
   "outputs": [],
   "source": [
    "selector = df_dropped['forma'] == 'Cigar'"
   ]
  },
  {
   "cell_type": "code",
   "execution_count": 21,
   "metadata": {},
   "outputs": [],
   "source": [
    "charutos = df_dropped[selector]"
   ]
  },
  {
   "cell_type": "code",
   "execution_count": 22,
   "metadata": {},
   "outputs": [
    {
     "data": {
      "text/plain": "                  ocorrido           cidade estado  forma  \\\n3      2021-12-18 00:00:00        Charlotte     NC  Cigar   \n39     2021-12-13 16:00:00            Minot     ME  Cigar   \n134327 2021-11-11 18:18:00  North Las Vegas     NV  Cigar   \n\n                     duração  \\\n3       still active 12:35am   \n39                 6 minutes   \n134327            30 seconds   \n\n                                                   relato    postado  \n3       flying stick, the ends of it brighter. Recorde... 2021-12-19  \n39                         Craft seen entering atmosphere 2021-12-19  \n134327  Cigar shaped bright lite craft, dropping squra... 2021-11-15  ",
      "text/html": "<div>\n<style scoped>\n    .dataframe tbody tr th:only-of-type {\n        vertical-align: middle;\n    }\n\n    .dataframe tbody tr th {\n        vertical-align: top;\n    }\n\n    .dataframe thead th {\n        text-align: right;\n    }\n</style>\n<table border=\"1\" class=\"dataframe\">\n  <thead>\n    <tr style=\"text-align: right;\">\n      <th></th>\n      <th>ocorrido</th>\n      <th>cidade</th>\n      <th>estado</th>\n      <th>forma</th>\n      <th>duração</th>\n      <th>relato</th>\n      <th>postado</th>\n    </tr>\n  </thead>\n  <tbody>\n    <tr>\n      <th>3</th>\n      <td>2021-12-18 00:00:00</td>\n      <td>Charlotte</td>\n      <td>NC</td>\n      <td>Cigar</td>\n      <td>still active 12:35am</td>\n      <td>flying stick, the ends of it brighter. Recorde...</td>\n      <td>2021-12-19</td>\n    </tr>\n    <tr>\n      <th>39</th>\n      <td>2021-12-13 16:00:00</td>\n      <td>Minot</td>\n      <td>ME</td>\n      <td>Cigar</td>\n      <td>6 minutes</td>\n      <td>Craft seen entering atmosphere</td>\n      <td>2021-12-19</td>\n    </tr>\n    <tr>\n      <th>134327</th>\n      <td>2021-11-11 18:18:00</td>\n      <td>North Las Vegas</td>\n      <td>NV</td>\n      <td>Cigar</td>\n      <td>30 seconds</td>\n      <td>Cigar shaped bright lite craft, dropping squra...</td>\n      <td>2021-11-15</td>\n    </tr>\n  </tbody>\n</table>\n</div>"
     },
     "execution_count": 22,
     "metadata": {},
     "output_type": "execute_result"
    }
   ],
   "source": [
    "charutos.head(3)"
   ]
  },
  {
   "cell_type": "code",
   "execution_count": 23,
   "metadata": {},
   "outputs": [],
   "source": [
    "charutos['hora'] = charutos['ocorrido'].dt.hour"
   ]
  },
  {
   "cell_type": "code",
   "execution_count": 24,
   "metadata": {},
   "outputs": [
    {
     "data": {
      "text/plain": "<Figure size 864x432 with 1 Axes>",
      "image/png": "[encoded data removed]"
     },
     "metadata": {},
     "output_type": "display_data"
    }
   ],
   "source": [
    "hora_hist = charutos['hora'].plot.hist(bins=24, grid=True)\n",
    "plt.xticks(range(charutos['hora'].min(), charutos['hora'].max()+1, 1))\n",
    "plt.show()"
   ]
  }
 ],
 "metadata": {
  "kernelspec": {
   "display_name": "Python 3",
   "language": "python",
   "name": "python3"
  },
  "language_info": {
   "codemirror_mode": {
    "name": "ipython",
    "version": 3
   },
   "file_extension": ".py",
   "mimetype": "text/x-python",
   "name": "python",
   "nbconvert_exporter": "python",
   "pygments_lexer": "ipython3",
   "version": "3.8.2"
  }
 },
 "nbformat": 4,
 "nbformat_minor": 4
}